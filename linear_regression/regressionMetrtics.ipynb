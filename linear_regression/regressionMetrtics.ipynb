{
  "nbformat": 4,
  "nbformat_minor": 0,
  "metadata": {
    "colab": {
      "provenance": [],
      "authorship_tag": "ABX9TyPZuS0c3f2nuWG4wAvQ8bDU",
      "include_colab_link": true
    },
    "kernelspec": {
      "name": "python3",
      "display_name": "Python 3"
    },
    "language_info": {
      "name": "python"
    }
  },
  "cells": [
    {
      "cell_type": "markdown",
      "metadata": {
        "id": "view-in-github",
        "colab_type": "text"
      },
      "source": [
        "<a href=\"https://colab.research.google.com/github/Rohitlodhii/machine_learning/blob/main/linear_regression/regressionMetrtics.ipynb\" target=\"_parent\"><img src=\"https://colab.research.google.com/assets/colab-badge.svg\" alt=\"Open In Colab\"/></a>"
      ]
    },
    {
      "cell_type": "code",
      "execution_count": 3,
      "metadata": {
        "id": "BOWFSCeSBePy"
      },
      "outputs": [],
      "source": [
        "import pandas as pd\n",
        "import numpy as np\n",
        "from sklearn.metrics import mean_absolute_error , mean_squared_error , r2_score"
      ]
    },
    {
      "cell_type": "code",
      "source": [
        "df = pd.read_csv('placement.csv')"
      ],
      "metadata": {
        "id": "LESD-9cIBsZ8"
      },
      "execution_count": 2,
      "outputs": []
    },
    {
      "cell_type": "code",
      "source": [
        "from sklearn.model_selection import train_test_split\n",
        "\n",
        "X = df.iloc[:, 0:1]     # 2D: (n_samples, 1)\n",
        "Y = df.iloc[:, -1]\n",
        "\n",
        "X_train , X_test , Y_train ,Y_test = train_test_split(X ,Y , test_size=0.2 , random_state=2)\n",
        "\n",
        "\n"
      ],
      "metadata": {
        "id": "Gg7cbRiJB7Eb"
      },
      "execution_count": 17,
      "outputs": []
    },
    {
      "cell_type": "code",
      "source": [
        "from sklearn.linear_model import LinearRegression\n",
        "\n",
        "lr = LinearRegression()\n",
        "\n",
        "lr.fit(X_train , Y_train)\n",
        ""
      ],
      "metadata": {
        "colab": {
          "base_uri": "https://localhost:8080/"
        },
        "collapsed": true,
        "id": "j0rhuRisCp7k",
        "outputId": "0005b87b-7cce-41a9-eec0-84b51a66937a"
      },
      "execution_count": 23,
      "outputs": [
        {
          "output_type": "stream",
          "name": "stdout",
          "text": [
            "[3.89111601]\n"
          ]
        },
        {
          "output_type": "stream",
          "name": "stderr",
          "text": [
            "/usr/local/lib/python3.11/dist-packages/sklearn/utils/validation.py:2739: UserWarning: X does not have valid feature names, but LinearRegression was fitted with feature names\n",
            "  warnings.warn(\n"
          ]
        }
      ]
    },
    {
      "cell_type": "code",
      "source": [
        " y_pred = lr.predict(X_test)\n",
        "\n",
        " print('Mean Absolute ERROR : ' , mean_absolute_error(Y_test , y_pred))\n",
        " print('Mean Squared ERROR : ' , mean_squared_error(Y_test , y_pred))\n",
        " print('Root Mean Squared ERROR : ' , np.sqrt(mean_squared_error(Y_test , y_pred)))"
      ],
      "metadata": {
        "colab": {
          "base_uri": "https://localhost:8080/"
        },
        "id": "4Cr2YP6FE2cK",
        "outputId": "13eb9e1c-75d7-474a-9202-b53910539963"
      },
      "execution_count": 26,
      "outputs": [
        {
          "output_type": "stream",
          "name": "stdout",
          "text": [
            "Mean Absolute ERROR :  0.2884710931878175\n",
            "Mean Squared ERROR :  0.12129235313495527\n",
            "Root Mean Squared ERROR :  0.34827051717731616\n"
          ]
        }
      ]
    },
    {
      "cell_type": "code",
      "source": [
        "#Calculating the R2 score which shows how our model is performing\n",
        "\n",
        "print('R2 Score of the model : ' , r2_score(Y_test , y_pred))"
      ],
      "metadata": {
        "colab": {
          "base_uri": "https://localhost:8080/"
        },
        "id": "g5GpSkRrE_Wx",
        "outputId": "24de516a-94ac-48c1-b55b-c7e957af6f02"
      },
      "execution_count": 27,
      "outputs": [
        {
          "output_type": "stream",
          "name": "stdout",
          "text": [
            "R2 Score of the model :  0.780730147510384\n"
          ]
        }
      ]
    },
    {
      "cell_type": "markdown",
      "source": [
        "It should be closer to one for the good model and if it is closer to zero it is considered as a bad model , It the r2 score is negative you are doing it wrong."
      ],
      "metadata": {
        "id": "XmSOcfi_FuMM"
      }
    }
  ]
}