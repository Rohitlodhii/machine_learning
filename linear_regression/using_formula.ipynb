{
  "nbformat": 4,
  "nbformat_minor": 0,
  "metadata": {
    "colab": {
      "provenance": [],
      "authorship_tag": "ABX9TyMWS0C4tZ/6UNSLqCxFUj1U",
      "include_colab_link": true
    },
    "kernelspec": {
      "name": "python3",
      "display_name": "Python 3"
    },
    "language_info": {
      "name": "python"
    }
  },
  "cells": [
    {
      "cell_type": "markdown",
      "metadata": {
        "id": "view-in-github",
        "colab_type": "text"
      },
      "source": [
        "<a href=\"https://colab.research.google.com/github/Rohitlodhii/machine_learning/blob/main/linear_regression/using_formula.ipynb\" target=\"_parent\"><img src=\"https://colab.research.google.com/assets/colab-badge.svg\" alt=\"Open In Colab\"/></a>"
      ]
    },
    {
      "cell_type": "code",
      "execution_count": 18,
      "metadata": {
        "id": "koPbamOtXf-C"
      },
      "outputs": [],
      "source": [
        "class LinearRegression:\n",
        "  def __init__(self):\n",
        "    self.m = None\n",
        "    self.b = None\n",
        "\n",
        "  def fit(self , X_train , Y_train):\n",
        "    #calculating the m first  , numerator first then denominator square term\n",
        "\n",
        "    num =0\n",
        "    den = 0\n",
        "\n",
        "    for i in range(X_train.shape[0]) :\n",
        "      num  = num + ( (X_train[i] - X_train.mean()) * (Y_train[i] - Y_train.mean()))\n",
        "      den = den + ((X_train[i] - X_train.mean())*(X_train[i] - X_train.mean()))\n",
        "\n",
        "    self.m = num/den\n",
        "    self.b = Y_train.mean() - (self.m * X_train.mean())\n",
        "    print(self.b)\n",
        "    print(self.m)\n",
        "\n",
        "\n",
        "\n",
        "\n",
        "\n",
        "\n",
        "  def predict(self , X_test):\n",
        "    return self.m * X_test + self.b"
      ]
    },
    {
      "cell_type": "code",
      "source": [
        "import numpy as np\n",
        "import pandas as pd\n",
        "\n",
        "\n"
      ],
      "metadata": {
        "id": "8Pa3psAYX9D9"
      },
      "execution_count": null,
      "outputs": []
    },
    {
      "cell_type": "code",
      "source": [
        "df = pd.read_csv('placement.csv')\n",
        "\n",
        "df.head()"
      ],
      "metadata": {
        "id": "_CoJ2je6YDQ7"
      },
      "execution_count": null,
      "outputs": []
    },
    {
      "cell_type": "code",
      "source": [
        "X =  df.iloc[:  , 0].values\n",
        "Y = df.iloc[ : , 1].values\n",
        "\n"
      ],
      "metadata": {
        "id": "zAUW-JblYmp7"
      },
      "execution_count": null,
      "outputs": []
    },
    {
      "cell_type": "code",
      "source": [
        "from sklearn.model_selection import train_test_split\n",
        "\n",
        "X_train ,X_test , Y_train ,Y_test = train_test_split(X ,Y , test_size=0.2 , random_state=2)\n",
        "\n",
        "lr = LinearRegression()\n",
        "lr.fit(X_train , Y_train)\n",
        "\n",
        "\n",
        "\n",
        "lr.predict(X_test[0])"
      ],
      "metadata": {
        "colab": {
          "base_uri": "https://localhost:8080/"
        },
        "id": "GFlTzR45Y51j",
        "outputId": "54f6c0e2-4fca-4543-d7af-285e06725f7e"
      },
      "execution_count": 19,
      "outputs": [
        {
          "output_type": "stream",
          "name": "stdout",
          "text": [
            "-0.8961119222429152\n",
            "0.5579519734250721\n"
          ]
        },
        {
          "output_type": "execute_result",
          "data": {
            "text/plain": [
              "np.float64(3.891116009744203)"
            ]
          },
          "metadata": {},
          "execution_count": 19
        }
      ]
    }
  ]
}